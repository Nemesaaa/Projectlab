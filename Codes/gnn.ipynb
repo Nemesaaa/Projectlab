{
 "cells": [
  {
   "cell_type": "markdown",
   "metadata": {},
   "source": []
  },
  {
   "cell_type": "code",
   "execution_count": 1,
   "metadata": {},
   "outputs": [],
   "source": [
    "import sumolib\n",
    "import networkx as nx\n",
    "import matplotlib\n",
    "import matplotlib.pyplot as plt\n",
    "import xml.etree.ElementTree as ET\n",
    "import random\n",
    "\n",
    "import torch\n",
    "import torch_geometric\n",
    "import torch_geometric.data as Data\n",
    "import torch_geometric.utils as pyg_utils\n",
    "\n",
    "import torch.nn as nn\n",
    "import torch.nn.functional as F\n",
    "from torch_geometric.nn import GCNConv\n",
    "import numpy as np\n",
    "import json\n",
    "import sys\n",
    "import import_ipynb\n",
    "%run ./Data_handling.ipynb\n",
    "%run ./Data_visualization.ipynb\n",
    "%run ./Model.ipynb\n",
    "%run ./Analysis.ipynb"
   ]
  },
  {
   "cell_type": "markdown",
   "metadata": {},
   "source": [
    "## Data handling"
   ]
  },
  {
   "cell_type": "code",
   "execution_count": 2,
   "metadata": {},
   "outputs": [],
   "source": [
    "G1 = read_sumo_net('../Data/s_gyor.net.xml') # type: ignore\n",
    "#G2 = add_edge_features_from_xml(G1,'../Data/gyor_forg_15_min.xml',\"0.00\")\n",
    "#pyg_data = nx_to_pyg(G2)"
   ]
  },
  {
   "cell_type": "code",
   "execution_count": 5,
   "metadata": {},
   "outputs": [
    {
     "data": {
      "text/plain": [
       "{'edge_id': '102409320#0', 'left': '43'}"
      ]
     },
     "execution_count": 5,
     "metadata": {},
     "output_type": "execute_result"
    }
   ],
   "source": []
  },
  {
   "cell_type": "markdown",
   "metadata": {},
   "source": [
    "## Initialization of the model"
   ]
  },
  {
   "cell_type": "code",
   "execution_count": 16,
   "metadata": {},
   "outputs": [
    {
     "name": "stdout",
     "output_type": "stream",
     "text": [
      "tensor(0.0980)\n",
      "Epoch 1, Loss: 0.12533944845199585\n",
      "Epoch 21, Loss: 0.04928743466734886\n",
      "Epoch 41, Loss: 0.06409019231796265\n",
      "Epoch 61, Loss: 0.0631089136004448\n",
      "Epoch 81, Loss: 0.05617464706301689\n"
     ]
    },
    {
     "data": {
      "text/plain": [
       "([0.12533944845199585,\n",
       "  0.11057290434837341,\n",
       "  0.109841488301754,\n",
       "  0.09958244115114212,\n",
       "  0.08963491022586823,\n",
       "  0.07211223244667053,\n",
       "  0.05550716072320938,\n",
       "  0.07728870213031769,\n",
       "  0.07519295811653137,\n",
       "  0.0683957040309906,\n",
       "  0.06384248286485672,\n",
       "  0.04882846027612686,\n",
       "  0.05803936347365379,\n",
       "  0.0651857927441597,\n",
       "  0.0632927194237709,\n",
       "  0.06595849245786667,\n",
       "  0.048037339001894,\n",
       "  0.05432923883199692,\n",
       "  0.057650741189718246,\n",
       "  0.06718021631240845,\n",
       "  0.04928743466734886,\n",
       "  0.06446529179811478,\n",
       "  0.055730804800987244,\n",
       "  0.05059671401977539,\n",
       "  0.05449290573596954,\n",
       "  0.05089915171265602,\n",
       "  0.0644596517086029,\n",
       "  0.03848138079047203,\n",
       "  0.06984901428222656,\n",
       "  0.054847799241542816,\n",
       "  0.06349793076515198,\n",
       "  0.0613618828356266,\n",
       "  0.0621802918612957,\n",
       "  0.05868550390005112,\n",
       "  0.06034485995769501,\n",
       "  0.050741612911224365,\n",
       "  0.06853710860013962,\n",
       "  0.05000609531998634,\n",
       "  0.04922663792967796,\n",
       "  0.06219923868775368,\n",
       "  0.06409019231796265,\n",
       "  0.061307087540626526,\n",
       "  0.05676131322979927,\n",
       "  0.06163794919848442,\n",
       "  0.06507445126771927,\n",
       "  0.061523210257291794,\n",
       "  0.0579264871776104,\n",
       "  0.0637819692492485,\n",
       "  0.041135795414447784,\n",
       "  0.05708281695842743,\n",
       "  0.06335560977458954,\n",
       "  0.052445586770772934,\n",
       "  0.06205165386199951,\n",
       "  0.06490718573331833,\n",
       "  0.048697177320718765,\n",
       "  0.03338496387004852,\n",
       "  0.06025977060198784,\n",
       "  0.06685598939657211,\n",
       "  0.05537132918834686,\n",
       "  0.061792947351932526,\n",
       "  0.0631089136004448,\n",
       "  0.059954896569252014,\n",
       "  0.05704094469547272,\n",
       "  0.06124839931726456,\n",
       "  0.05889886990189552,\n",
       "  0.053828928619623184,\n",
       "  0.07173801213502884,\n",
       "  0.05654261261224747,\n",
       "  0.06558644771575928,\n",
       "  0.053697433322668076,\n",
       "  0.06067095696926117,\n",
       "  0.0481104739010334,\n",
       "  0.056426454335451126,\n",
       "  0.055407579988241196,\n",
       "  0.03120601363480091,\n",
       "  0.046985384076833725,\n",
       "  0.04860232025384903,\n",
       "  0.06594894081354141,\n",
       "  0.060967911034822464,\n",
       "  0.06767670065164566,\n",
       "  0.05617464706301689,\n",
       "  0.051751021295785904,\n",
       "  0.045883677899837494,\n",
       "  0.06069372966885567,\n",
       "  0.059121761471033096,\n",
       "  0.04736495390534401,\n",
       "  0.056359753012657166,\n",
       "  0.051933564245700836,\n",
       "  0.059679433703422546,\n",
       "  0.05949610099196434,\n",
       "  0.05472790077328682,\n",
       "  0.06291736662387848,\n",
       "  0.05109591409564018,\n",
       "  0.06440974026918411,\n",
       "  0.07411012798547745,\n",
       "  0.06451895833015442,\n",
       "  0.05671106278896332,\n",
       "  0.035847343504428864,\n",
       "  0.05946262180805206,\n",
       "  0.05409010872244835],\n",
       " [0.12331830710172653,\n",
       "  0.05807977542281151,\n",
       "  0.0576617605984211,\n",
       "  0.057657644152641296,\n",
       "  0.05762319266796112])"
      ]
     },
     "execution_count": 16,
     "metadata": {},
     "output_type": "execute_result"
    }
   ],
   "source": [
    "G2 = add_edge_features_from_xml(G1,'../Data/gyor_forg_15_min.xml',\"10800.00\")\n",
    "with open('../Data/edges_to_hide.json', 'r') as file:\n",
    "    edges_to_hide = json.load(file)\n",
    "data = torch.load('../Data/data.pth')\n",
    "\n",
    "prepared_training_data, prepared_test_data, summa = data_preparation(data, edges_to_hide,True)\n",
    "print(summa)\n",
    "\n",
    "\n",
    "# Define the model\n",
    "edge_dim = 1  # Number of edge features\n",
    "hidden_dim1 = 32\n",
    "hidden_dim2 = 128\n",
    "hidden_dim3 = 64\n",
    "hidden_dim4 = 32\n",
    "hidden_dim5 = 32\n",
    "hidden_dim6 = 32\n",
    "hidden_dim7 = 32\n",
    "hidden_dim8 = 32\n",
    "\n",
    "model = GNN(edge_dim, hidden_dim1, hidden_dim2, hidden_dim3, hidden_dim4, hidden_dim5, hidden_dim6, hidden_dim7, hidden_dim8)\n",
    "\n",
    "criterion = nn.MSELoss()\n",
    "optimizer = torch.optim.Adam(model.parameters(), lr=0.005)\n",
    "\n",
    "training_the_model(model, optimizer, criterion, 100, prepared_test_data, prepared_training_data, edges_to_hide, 20)\n",
    "\n",
    "#with open('total_losses.json', 'w') as file:\n",
    "#    json.dump(total_losses, file)\n",
    "#with open('losses.json', 'w') as file:\n",
    "#    json.dump(losses, file)"
   ]
  },
  {
   "cell_type": "code",
   "execution_count": 65,
   "metadata": {},
   "outputs": [],
   "source": [
    "torch.save(model.state_dict(), 'gnn_model_ces.pth')\n",
    "#cep : change every step\n",
    "layers = [model.conv1, model.conv2, model.conv3, model.conv4, model.conv5, model.conv6, model.conv7, model.conv8]\n",
    "edge_dims = []\n",
    "for layer in layers:\n",
    "    edge_dims.append(layer.in_channels)\n",
    "edge_dims.append(model.linear.in_features)\n",
    "with open('dimensions.json','w') as file:\n",
    "    json.dump(edge_dims, file)\n"
   ]
  },
  {
   "cell_type": "markdown",
   "metadata": {},
   "source": [
    "## Loading the model\n",
    "Once we trained it nd saved it, this is how we can load it"
   ]
  },
  {
   "cell_type": "code",
   "execution_count": 66,
   "metadata": {},
   "outputs": [
    {
     "data": {
      "text/plain": [
       "<All keys matched successfully>"
      ]
     },
     "execution_count": 66,
     "metadata": {},
     "output_type": "execute_result"
    }
   ],
   "source": [
    "with open('edges_to_hide.json', 'r') as file:\n",
    "    edges_to_hide = json.load(file)\n",
    "data = torch.load('data.pth')\n",
    "\n",
    "prepared_training_data, prepared_test_data, summa = data_preparation(data, edges_to_hide)\n",
    "\n",
    "with open('dimensions.json', 'r') as file:\n",
    "    edge_dims = json.load(file)\n",
    "\n",
    "model2 = GNN(edge_dims[0], edge_dims[1], edge_dims[2], edge_dims[3], edge_dims[4], edge_dims[5], edge_dims[6], edge_dims[7], edge_dims[8])\n",
    "model2.load_state_dict(torch.load('gnn_model_ces.pth'))\n",
    "output = model2(prepared_training_data[3].edge_attr, prepared_training_data[3].edge_index)\n",
    "\n"
   ]
  },
  {
   "cell_type": "markdown",
   "metadata": {},
   "source": [
    "## Data visualization"
   ]
  }
 ],
 "metadata": {
  "kernelspec": {
   "display_name": "tf",
   "language": "python",
   "name": "python3"
  },
  "language_info": {
   "codemirror_mode": {
    "name": "ipython",
    "version": 3
   },
   "file_extension": ".py",
   "mimetype": "text/x-python",
   "name": "python",
   "nbconvert_exporter": "python",
   "pygments_lexer": "ipython3",
   "version": "3.10.13"
  }
 },
 "nbformat": 4,
 "nbformat_minor": 2
}
