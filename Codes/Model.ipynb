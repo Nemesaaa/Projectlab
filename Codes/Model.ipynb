{
 "cells": [
  {
   "cell_type": "markdown",
   "metadata": {},
   "source": [
    "# Model\n",
    "In this notebook we are defining the model we are going to work with and all the related functions. <br>\n",
    "Here we can modify the model, add more layers, add more functions if necessary, potentially add loss functions."
   ]
  },
  {
   "cell_type": "code",
   "execution_count": 1,
   "metadata": {},
   "outputs": [],
   "source": [
    "import sumolib\n",
    "import networkx as nx\n",
    "import matplotlib\n",
    "import matplotlib.pyplot as plt\n",
    "import xml.etree.ElementTree as ET\n",
    "import random\n",
    "\n",
    "import torch\n",
    "import torch_geometric\n",
    "import torch_geometric.data as Data\n",
    "import torch_geometric.utils as pyg_utils\n",
    "\n",
    "import torch.nn as nn\n",
    "import torch.nn.functional as F\n",
    "from torch_geometric.nn import GCNConv\n",
    "import numpy as np\n",
    "import json\n",
    "import sys\n",
    "%run ./Analysis.ipynb"
   ]
  },
  {
   "cell_type": "code",
   "execution_count": 3,
   "metadata": {},
   "outputs": [],
   "source": [
    "class GNN(nn.Module):\n",
    "    def __init__(self, edge_dim, hidden_dim1, hidden_dim2, hidden_dim3, hidden_dim4, hidden_dim5, hidden_dim6, hidden_dim7, hidden_dim8):\n",
    "        super(GNN, self).__init__()\n",
    "        self.conv1 = GCNConv(edge_dim, hidden_dim1)\n",
    "        self.conv2 = GCNConv(hidden_dim1, hidden_dim2)\n",
    "        self.conv3 = GCNConv(hidden_dim2, hidden_dim3)\n",
    "        self.conv4 = GCNConv(hidden_dim3, hidden_dim4)\n",
    "        self.conv5 = GCNConv(hidden_dim4, hidden_dim5)\n",
    "        self.conv6 = GCNConv(hidden_dim5, hidden_dim6)\n",
    "        self.conv7 = GCNConv(hidden_dim6, hidden_dim7)\n",
    "        self.conv8 = GCNConv(hidden_dim7, hidden_dim8)\n",
    "        self.linear = nn.Linear(hidden_dim8, edge_dim)\n",
    "\n",
    "    def forward(self, edge_features, edge_index):\n",
    "        x = self.conv1(edge_features, edge_index)\n",
    "        x = F.relu(x)\n",
    "        x = self.conv2(x, edge_index)\n",
    "        x = F.relu(x)\n",
    "        x = self.conv3(x, edge_index)\n",
    "        x = F.relu(x)\n",
    "        x = self.conv4(x, edge_index)\n",
    "        x = F.relu(x)\n",
    "        x = self.conv5(x, edge_index)\n",
    "        x = F.relu(x)\n",
    "        x = self.conv6(x, edge_index)\n",
    "        x = F.relu(x)\n",
    "        x = self.conv7(x, edge_index)\n",
    "        x = F.relu(x)\n",
    "        x = self.conv8(x, edge_index)\n",
    "        x = F.relu(x)\n",
    "        x = self.linear(x)\n",
    "        return x"
   ]
  },
  {
   "cell_type": "code",
   "execution_count": 3,
   "metadata": {},
   "outputs": [],
   "source": [
    "def training_the_model(model, optimizer, criterion, number_of_epochs, prepared_training_data, prepared_training_data_hiden, prepared_test_data, prepared_test_data_hiden, edges_to_hide, when_to_print_total_loss):\n",
    "    losses = []\n",
    "    total_train_losses = []\n",
    "    total_test_losses = []\n",
    "\n",
    "    for epoch in range(number_of_epochs):\n",
    "        model.train()\n",
    "        optimizer.zero_grad()\n",
    "        i = random.randint(0, len(prepared_training_data)-1)\n",
    "        \"\"\" if epoch % 100 == 0:\n",
    "            i = random.randint(0, len(prepared_test_data)-1) \"\"\"\n",
    "        # Forward pass\n",
    "        output = model(prepared_training_data_hiden[i].edge_attr, prepared_training_data_hiden[i].edge_index)\n",
    "        \n",
    "        # Compute loss using the predicted features and the input features of the hidden edges\n",
    "        loss = criterion(output[edges_to_hide], prepared_training_data[i].edge_attr[edges_to_hide])\n",
    "        losses.append(float(loss))\n",
    "        loss.backward()\n",
    "        optimizer.step()\n",
    "        if epoch % when_to_print_total_loss == 0:\n",
    "            print(f'Epoch {epoch+1}, Loss: {loss.item()}')\n",
    "            total_train_loss = evaluate_all_graphs(model, prepared_training_data_hiden, prepared_training_data, edges_to_hide, criterion)\n",
    "            total_train_losses.append(float(total_train_loss))\n",
    "\n",
    "            total_test_loss = evaluate_all_graphs(model, prepared_test_data_hiden, prepared_test_data, edges_to_hide, criterion)\n",
    "            total_test_losses.append(float(total_test_loss))\n",
    "\n",
    "    return losses, total_train_losses, total_test_losses"
   ]
  },
  {
   "cell_type": "code",
   "execution_count": null,
   "metadata": {},
   "outputs": [],
   "source": []
  }
 ],
 "metadata": {
  "kernelspec": {
   "display_name": "tf",
   "language": "python",
   "name": "python3"
  },
  "language_info": {
   "codemirror_mode": {
    "name": "ipython",
    "version": 3
   },
   "file_extension": ".py",
   "mimetype": "text/x-python",
   "name": "python",
   "nbconvert_exporter": "python",
   "pygments_lexer": "ipython3",
   "version": "3.12.3"
  }
 },
 "nbformat": 4,
 "nbformat_minor": 2
}
