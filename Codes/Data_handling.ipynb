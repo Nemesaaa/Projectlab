{
 "cells": [
  {
   "cell_type": "markdown",
   "metadata": {},
   "source": [
    "# Data Handling\n",
    "\n",
    "In this notebook we write all of the data handling relevant functions: <br>\n",
    "#### read_sumo_net(filename)\n",
    "    1. input: The path to the SUMO file with the city graph\n",
    "    2. output: The city's graph in a networkx graph object\n",
    "#### add_edge_features_from_xml(G, xml_filename, interval_begin)\n",
    "    1. inputs: The networkx graph object of the city; The path xml file with the traffic data; The beginning of the interval we want to work with\n",
    "    2. output: The same networkx graph object updated with the sumo graph features (traffic volumes, etc)\n",
    "#### nx_to_pyg(graph)\n",
    "    1. input: The networkx graph object\n",
    "    2. output: The same graph converted into a pytorch graph object\n",
    "#### data_preparation(data, edges_to_hide, constant_normalization)\n",
    "    1. input: data: The list of pytorch graph objects with the right edge and node features; The list of edges we want to cover, a boolean, which determines wether we work with the maximum edge feature or a constant normalization.\n",
    "    2. output: The prepared training data, which have -1 as edge features for unknown edges, and normalized edge features for the known. The prepared test data, which have all the edge features normalized. The sum of the squares of all the normalized edge features for benchmarking the model's performance.\n"
   ]
  },
  {
   "cell_type": "code",
   "execution_count": 4,
   "metadata": {},
   "outputs": [],
   "source": [
    "#Necessary imports\n",
    "import sumolib\n",
    "import networkx as nx\n",
    "import matplotlib\n",
    "import matplotlib.pyplot as plt\n",
    "import xml.etree.ElementTree as ET\n",
    "import random\n",
    "\n",
    "import torch\n",
    "import torch_geometric\n",
    "import torch_geometric.data as Data\n",
    "import torch_geometric.utils as pyg_utils\n",
    "\n",
    "import torch.nn as nn\n",
    "import torch.nn.functional as F\n",
    "from torch_geometric.nn import GCNConv\n",
    "import numpy as np\n",
    "import json\n",
    "import sys"
   ]
  },
  {
   "cell_type": "code",
   "execution_count": 5,
   "metadata": {},
   "outputs": [],
   "source": [
    "#Function to read in the network we work with into a networkx object with the nodes and edges, no features yet\n",
    "def read_sumo_net1(filename):\n",
    "    net = sumolib.net.readNet(filename)\n",
    "    G = nx.Graph()\n",
    "    # Add nodes\n",
    "    for node in net.getNodes():\n",
    "        G.add_node(node.getID(), pos=(node.getCoord()))\n",
    "    # Add edges\n",
    "    for edge in net.getEdges():\n",
    "        for lane in edge.getLanes():\n",
    "            edge_id = lane.getEdge().getID()\n",
    "            starting_node_id = net.getEdge(edge_id).getFromNode().getID()\n",
    "            ending_node_id = net.getEdge(edge_id).getToNode().getID()\n",
    "            G.add_edge(starting_node_id, ending_node_id, edge_id = edge_id)\n",
    "    return G"
   ]
  },
  {
   "cell_type": "code",
   "execution_count": 22,
   "metadata": {},
   "outputs": [],
   "source": [
    "def read_sumo_net2(filename):\n",
    "    net = sumolib.net.readNet(filename)\n",
    "    G = nx.Graph()\n",
    "    # Add nodes\n",
    "    for node in net.getNodes():\n",
    "        G.add_node(node.getID(), pos=(node.getCoord()), traffic_volume_wright = 0)\n",
    "    # Add edges\n",
    "    for edge in net.getEdges():\n",
    "        for lane in edge.getLanes():\n",
    "            speed = lane.getSpeed()\n",
    "            length = lane.getLength()\n",
    "            average_travelling_time = length/speed\n",
    "            edge_id = lane.getEdge().getID()\n",
    "            starting_node_id = net.getEdge(edge_id).getFromNode().getID()\n",
    "            ending_node_id = net.getEdge(edge_id).getToNode().getID()\n",
    "            G.add_edge(starting_node_id, ending_node_id, edge_id = edge_id, average_traveling_time = average_travelling_time, center_leader = False, center_number = -1, in_district = False)\n",
    "    return G"
   ]
  },
  {
   "cell_type": "code",
   "execution_count": 24,
   "metadata": {},
   "outputs": [],
   "source": [
    "def get_k_neighbour_edges_of_edge(graph, edge, k):\n",
    "    #The 2 nodes of the original edge\n",
    "    u, v = edge\n",
    "\n",
    "    #Get the neighbors of the original 2 nodes u, v\n",
    "    neighbors_u = nx.single_source_shortest_path_length(graph, u, cutoff=k)\n",
    "    neighbors_v = nx.single_source_shortest_path_length(graph, v, cutoff=k)\n",
    "\n",
    "    #Combine the 2 sets and add u and v\n",
    "    reachable_nodes = set(neighbors_u.keys()).union(set(neighbors_v.keys()))\n",
    "    reachable_nodes.add(u)\n",
    "    reachable_nodes.add(v)\n",
    "\n",
    "    # Find all edges where both nodes are in the reachable_nodes set\n",
    "    reachable_edges = set()\n",
    "    for node in reachable_nodes:\n",
    "        for neighbor in graph.neighbors(node):\n",
    "            if neighbor in reachable_nodes:\n",
    "                reachable_edges.add(tuple(sorted((node, neighbor))))\n",
    "    return reachable_edges"
   ]
  },
  {
   "cell_type": "code",
   "execution_count": 25,
   "metadata": {},
   "outputs": [],
   "source": [
    "def create_districts(graph, edges_to_select, k: int, lower_bound: float):\n",
    "    set_of_edges = set(graph.edges)\n",
    "    i = 0\n",
    "    while len(set_of_edges) != 0 and i<500:\n",
    "        edge = random.choice(tuple(set_of_edges))\n",
    "        set_of_edge_neighbors = get_k_neighbour_edges_of_edge(graph, edge, k)\n",
    "        u, v = edge\n",
    "        set_of_edge_neighbors.add(edge)\n",
    "        intersection = set_of_edge_neighbors.intersection(set_of_edges)\n",
    "        if float(len(intersection)/len(set_of_edge_neighbors)) >= lower_bound: \n",
    "            graph[u][v]['center_leader'] = True\n",
    "            graph[u][v]['center_number'] = i\n",
    "            graph[u][v]['in_district'] = True   \n",
    "            for neighbor_edge in set_of_edge_neighbors:\n",
    "                if neighbor_edge in set_of_edges:\n",
    "                    u, v = neighbor_edge\n",
    "                    graph[u][v]['center_number'] = i\n",
    "                    graph[u][v]['in_district'] = True\n",
    "            i += 1\n",
    "        else:\n",
    "            little_step_set_of_edge_neighbors = get_k_neighbour_edges_of_edge(graph, edge, 1)\n",
    "            attributes = set()\n",
    "            for helper_edge in little_step_set_of_edge_neighbors:\n",
    "                x, y = helper_edge\n",
    "                attributes.add(graph[x][y]['center_number'])\n",
    "            if len(attributes) == 0:\n",
    "                little_step_set_of_edge_neighbors = get_k_neighbour_edges_of_edge(graph, edge, 2)\n",
    "                for helper_edge in little_step_set_of_edge_neighbors:\n",
    "                    x, y = helper_edge\n",
    "                    attributes.add(graph[x][y]['center_number'])\n",
    "            graph[u][v]['center_number'] = random.choice(tuple(attributes))\n",
    "            graph[u][v]['in_district'] = True\n",
    "        set_of_edges = set_of_edges - set_of_edge_neighbors\n",
    "    return i"
   ]
  },
  {
   "cell_type": "code",
   "execution_count": 26,
   "metadata": {},
   "outputs": [],
   "source": [
    "def plot_graph_data_debug(G):\n",
    "    # Retrieve the position of the nodes from the 'pos' attribute\n",
    "    pos = nx.get_node_attributes(G, 'pos')\n",
    "\n",
    "    # Separate the edges based on the 'in_district' attribute\n",
    "    edges_in_district = [(u, v) for u, v, d in G.edges(data=True) if d['center_leader']]\n",
    "    edges_out_district = [(u, v) for u, v, d in G.edges(data=True) if not d['center_leader']]\n",
    "\n",
    "    # Draw the entire graph but without edges (so we can control edge colors separately)\n",
    "    nx.draw(G, pos, with_labels=False, node_size=1, edge_color='none') \n",
    "\n",
    "    # Draw edges with custom colors\n",
    "    nx.draw_networkx_edges(G, pos, edgelist=edges_in_district, edge_color='green', width=1)\n",
    "    nx.draw_networkx_edges(G, pos, edgelist=edges_out_district, edge_color='green', width=1)\n",
    "    # Display the plot\n",
    "    plt.show()"
   ]
  },
  {
   "cell_type": "code",
   "execution_count": 27,
   "metadata": {},
   "outputs": [],
   "source": [
    "class Edges:\n",
    "    def __init__(self, from_node, to_node, edge_id=\"\", weight=0, pairs_it_connects=[]):\n",
    "        self.edge_id = edge_id\n",
    "        self.from_node = from_node\n",
    "        self.to_node = to_node\n",
    "        self.weight = weight\n",
    "        self.pairs_it_connects = pairs_it_connects\n",
    "\n",
    "def get_edges_from_shortest_path(graph, node1, node2, weight):\n",
    "    road = nx.dijkstra_path(graph, node1, node2, weight = weight)\n",
    "    list_of_edges = []\n",
    "    for i in range(len(road)-1):\n",
    "        list_of_edges.append(Edges(road[i], road[i+1], graph[road[i]][road[i+1]]['edge_id'], 0, [node1, node2]))\n",
    "    return list_of_edges\n",
    "\n",
    "def update_all_edges(all_edges, road):\n",
    "    edge_ids_in_all_edges = []\n",
    "    for edge in all_edges:\n",
    "        edge_ids_in_all_edges.append(edge.edge_id)\n",
    "    edge_ids_in_roads = []\n",
    "    for edge in road:\n",
    "        edge_ids_in_roads.append(edge.edge_id)\n",
    "    for id in edge_ids_in_roads:\n",
    "        if id in edge_ids_in_all_edges:\n",
    "            index_all_edges = edge_ids_in_all_edges.index(id)\n",
    "            index_road = edge_ids_in_roads.index(id)\n",
    "            all_edges[index_all_edges].pairs_it_connects.append(road[index_road].pairs_it_connects)\n",
    "            all_edges[index_all_edges].weight += road[index_road].weight\n",
    "        else:\n",
    "            index_road = edge_ids_in_roads.index(id)\n",
    "            all_edges.append(road[index_road])\n",
    "        \n",
    "            \n",
    "\n",
    "def get_shortest_paths_edges(graph):\n",
    "    district_leaders = [(u, v) for u, v, d in graph.edges(data=True) if d['center_leader']]\n",
    "    nodes_from = [district_leaders[i][0] for i in range(len(district_leaders))]\n",
    "    nodes_to = [district_leaders[i][1] for i in range(len(district_leaders))]\n",
    "    all_edges = []\n",
    "    for node1 in nodes_from:\n",
    "        for node2 in nodes_to:\n",
    "            road = get_edges_from_shortest_path(graph, node1, node2, 'average_traveling_time')\n",
    "            update_all_edges(all_edges, road)\n",
    "\n",
    "    return len(all_edges)\n",
    "    #print(nodes_from, nodes_to)"
   ]
  },
  {
   "cell_type": "code",
   "execution_count": 28,
   "metadata": {},
   "outputs": [
    {
     "data": {
      "text/plain": [
       "291"
      ]
     },
     "execution_count": 28,
     "metadata": {},
     "output_type": "execute_result"
    }
   ],
   "source": [
    "G1 = read_sumo_net2('../Data/s_gyor.net.xml') # type: ignore\n",
    "G1.remove_edge('370502474', 'cluster_1184280674_4523347826_4523347827')\n",
    "G1.remove_node('370502474')\n",
    "G1.remove_node('cluster_1184280674_4523347826_4523347827')\n",
    "results = []\n",
    "create_districts(G1, 0, 3, 0.3)\n",
    "get_shortest_paths_edges(G1)\n",
    "#plot_graph_data_debug(G1)"
   ]
  },
  {
   "cell_type": "code",
   "execution_count": 73,
   "metadata": {},
   "outputs": [
    {
     "name": "stdout",
     "output_type": "stream",
     "text": [
      "194\n"
     ]
    },
    {
     "data": {
      "image/png": "[encoded data removed]",
      "text/plain": [
       "<Figure size 640x480 with 1 Axes>"
      ]
     },
     "metadata": {},
     "output_type": "display_data"
    }
   ],
   "source": []
  },
  {
   "cell_type": "code",
   "execution_count": 3,
   "metadata": {},
   "outputs": [],
   "source": [
    "#Function to add the features to the network graph we created already\n",
    "def add_edge_features_from_xml(G, xml_filename, interval_begin):\n",
    "    # Parse the XML file\n",
    "    tree = ET.parse(xml_filename)\n",
    "    root = tree.getroot()\n",
    "    #Find the interval corresponding to the interval_begin time \n",
    "    interval = root.find(f'.//interval[@begin=\"{interval_begin}\"]')\n",
    "    #Extract all the features of the edges\n",
    "    edges = interval.findall('.//edge')\n",
    "    for edge in edges:\n",
    "        edge_id = edge.get('id')\n",
    "        edge_features = {}\n",
    "        edge_features['left'] = edge.get('left')\n",
    "        #We can add other features here\n",
    "        #Iterate through the edges in the existing NetworkX graph\n",
    "        for xml_edge_id, xml_edge_data in G.edges.items():\n",
    "            if G.get_edge_data(xml_edge_id[0],xml_edge_id[1])['edge_id'] == edge_id:\n",
    "                G.edges[xml_edge_id].update(edge_features)\n",
    "    return G"
   ]
  },
  {
   "cell_type": "code",
   "execution_count": 5,
   "metadata": {},
   "outputs": [],
   "source": [
    "#Function to convert the networkx graph into a pytorch graph object\n",
    "def nx_to_pyg(graph):\n",
    "    # Convert NetworkX graph to PyTorch Geometric Data object\n",
    "    pyg_data = Data.Data()\n",
    "    #We have to number the nodes, because that is how Data object works\n",
    "    # Mapping between string node IDs and numerical indices\n",
    "    node_id_to_index = {node_id: i for i, node_id in enumerate(graph.nodes)}\n",
    "\n",
    "    # Set node features\n",
    "    num_nodes = graph.number_of_nodes()\n",
    "    node_features = np.zeros((num_nodes, 2))  # Assuming num_features is known, this is important to change, if we want to change something, altough I do not think that will be the case for us\n",
    "    for i, (node, features) in enumerate(graph.nodes(data=True)):\n",
    "        node_features[i] = [features['pos'][0], features['pos'][1]]  # Add node features accordingly, this case the coordinates\n",
    "    pyg_data.x = torch.tensor(node_features, dtype=torch.float)\n",
    "\n",
    "    # Set edge features and edge indices\n",
    "    edge_index = []\n",
    "    edge_features = []\n",
    "    for u, v, features in graph.edges(data=True):\n",
    "        # Map string node IDs to numerical indices\n",
    "        u_index = node_id_to_index[u]\n",
    "        v_index = node_id_to_index[v]\n",
    "        edge_index.append([u_index, v_index])\n",
    "        edge_features.append([float(features['left'])])  # Add edge features accordingly, if we add more features, we have to change this line\n",
    "\n",
    "    pyg_data.edge_index = torch.tensor(edge_index, dtype=torch.long).t().contiguous()\n",
    "    pyg_data.edge_attr = torch.tensor(edge_features, dtype=torch.float)\n",
    "\n",
    "    return pyg_data"
   ]
  },
  {
   "cell_type": "code",
   "execution_count": 29,
   "metadata": {},
   "outputs": [],
   "source": [
    "#Function to prepare the data (list of pytorch graph objects with the correct node and edge features)\n",
    "def data_preparation(data, edges_to_hide, constant_normalization):\n",
    "    prepared_training_data = []\n",
    "    prepared_test_data = []\n",
    "    summa = 0\n",
    "    for graph in data:\n",
    "        edge_features = graph.edge_attr\n",
    "        if constant_normalization==False:\n",
    "            max_value = edge_features.max()\n",
    "        else:\n",
    "            max_value = (2*1800)/4 #In Győr for the majority of the city there's only 2 lanes on the busiest road\n",
    "        normalized_edge_features = edge_features / max_value\n",
    "        graph.edge_attr = normalized_edge_features\n",
    "        graph_test = graph.clone()\n",
    "        edge_features_to_sum = graph_test.edge_attr\n",
    "        squared_edge_features = edge_features_to_sum**2\n",
    "        summa += squared_edge_features.mean()\n",
    "        graph.edge_attr[edges_to_hide] = -1\n",
    "        prepared_training_data.append(graph)\n",
    "        prepared_test_data.append(graph_test)\n",
    "    return prepared_training_data, prepared_test_data, summa/len(data)"
   ]
  }
 ],
 "metadata": {
  "kernelspec": {
   "display_name": "tf",
   "language": "python",
   "name": "python3"
  },
  "language_info": {
   "codemirror_mode": {
    "name": "ipython",
    "version": 3
   },
   "file_extension": ".py",
   "mimetype": "text/x-python",
   "name": "python",
   "nbconvert_exporter": "python",
   "pygments_lexer": "ipython3",
   "version": "3.10.13"
  }
 },
 "nbformat": 4,
 "nbformat_minor": 2
}
