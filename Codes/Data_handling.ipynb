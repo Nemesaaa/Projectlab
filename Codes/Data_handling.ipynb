{
 "cells": [
  {
   "cell_type": "markdown",
   "metadata": {},
   "source": [
    "# Data Handling\n",
    "\n",
    "In this notebook we write all of the data handling relevant functions: <br>\n",
    "#### read_sumo_net(filename)\n",
    "    1. input: The path to the SUMO file with the city graph\n",
    "    2. output: The city's graph in a networkx graph object\n",
    "#### add_edge_features_from_xml(G, xml_filename, interval_begin)\n",
    "    1. inputs: The networkx graph object of the city; The path xml file with the traffic data; The beginning of the interval we want to work with\n",
    "    2. output: The same networkx graph object updated with the sumo graph features (traffic volumes, etc)\n",
    "#### nx_to_pyg(graph)\n",
    "    1. input: The networkx graph object\n",
    "    2. output: The same graph converted into a pytorch graph object\n",
    "#### data_preparation(data, edges_to_hide, constant_normalization)\n",
    "    1. input: data: The list of pytorch graph objects with the right edge and node features; The list of edges we want to cover, a boolean, which determines wether we work with the maximum edge feature or a constant normalization.\n",
    "    2. output: The prepared training data, which have -1 as edge features for unknown edges, and normalized edge features for the known. The prepared test data, which have all the edge features normalized. The sum of the squares of all the normalized edge features for benchmarking the model's performance.\n"
   ]
  },
  {
   "cell_type": "code",
   "execution_count": 1,
   "metadata": {},
   "outputs": [],
   "source": [
    "#Necessary imports\n",
    "import sumolib\n",
    "import networkx as nx\n",
    "import matplotlib\n",
    "import matplotlib.pyplot as plt\n",
    "import xml.etree.ElementTree as ET\n",
    "import random\n",
    "\n",
    "import torch\n",
    "import torch_geometric\n",
    "import torch_geometric.data as Data\n",
    "import torch_geometric.utils as pyg_utils\n",
    "\n",
    "import torch.nn as nn\n",
    "import torch.nn.functional as F\n",
    "from torch_geometric.nn import GCNConv\n",
    "import numpy as np\n",
    "import json\n",
    "import sys"
   ]
  },
  {
   "cell_type": "code",
   "execution_count": 2,
   "metadata": {},
   "outputs": [],
   "source": [
    "#Function to read in the network we work with into a networkx object with the nodes and edges, no features yet\n",
    "def read_sumo_net1(filename):\n",
    "    net = sumolib.net.readNet(filename)\n",
    "    G = nx.Graph()\n",
    "    # Add nodes\n",
    "    for node in net.getNodes():\n",
    "        G.add_node(node.getID(), pos=(node.getCoord()))\n",
    "    # Add edges\n",
    "    for edge in net.getEdges():\n",
    "        for lane in edge.getLanes():\n",
    "            edge_id = lane.getEdge().getID()\n",
    "            starting_node_id = net.getEdge(edge_id).getFromNode().getID()\n",
    "            ending_node_id = net.getEdge(edge_id).getToNode().getID()\n",
    "            G.add_edge(starting_node_id, ending_node_id, edge_id = edge_id)\n",
    "    return G"
   ]
  },
  {
   "cell_type": "code",
   "execution_count": 38,
   "metadata": {},
   "outputs": [],
   "source": [
    "def read_sumo_net2(filename):\n",
    "    net = sumolib.net.readNet(filename)\n",
    "    G = nx.Graph()\n",
    "    # Add nodes\n",
    "    for node in net.getNodes():\n",
    "        G.add_node(node.getID(), pos=(node.getCoord()), traffic_volume_wright = 0)\n",
    "    # Add edges\n",
    "    for edge in net.getEdges():\n",
    "        for lane in edge.getLanes():\n",
    "            speed = lane.getSpeed()\n",
    "            length = lane.getLength()\n",
    "            average_travelling_time = length/speed\n",
    "            edge_id = lane.getEdge().getID()\n",
    "            starting_node_id = net.getEdge(edge_id).getFromNode().getID()\n",
    "            ending_node_id = net.getEdge(edge_id).getToNode().getID()\n",
    "            G.add_edge(starting_node_id, ending_node_id, edge_id = edge_id, average_traveling_time = average_travelling_time, center_leader = False, center_number = -1, in_district = False, traffic_volume = 0)\n",
    "    return G"
   ]
  },
  {
   "cell_type": "code",
   "execution_count": 39,
   "metadata": {},
   "outputs": [],
   "source": [
    "def get_start_end_points(G):\n",
    "    #list edges and the its ids \n",
    "    #list of tuples (start_node, end_node, edge_id)\n",
    "    edge_ids = list(G.edges(data='edge_id', default=1))\n",
    "\n",
    "    #filter the list for edges which ids contain \"_in\" or \"_out\"\n",
    "    new_list = [sublist[2] for sublist in edge_ids]\n",
    "    start_edges = [k for k in new_list if '_in' in k]\n",
    "    random_edes = [k for k in new_list if '48_E_i_0' in k]\n",
    "    end_edges = [k for k in new_list if '_out' in k]\n",
    "    edge_ids = start_edges + end_edges + random_edes\n",
    "\n",
    "    edge_id_map = {data['edge_id']: (u, v) for u, v, data in G1.edges(data=True)}\n",
    "    edges = []\n",
    "    for edge_id in edge_ids:\n",
    "        if edge_id in edge_id_map:\n",
    "            u, v = edge_id_map[edge_id]\n",
    "            edges.append((u, v))\n",
    "\n",
    "\n",
    "    return(edges)\n"
   ]
  },
  {
   "cell_type": "code",
   "execution_count": 40,
   "metadata": {},
   "outputs": [],
   "source": [
    "def get_k_neighbour_edges_of_edge(graph, edge, k):\n",
    "    #The 2 nodes of the original edge\n",
    "    u, v = edge\n",
    "\n",
    "    #Get the neighbors of the original 2 nodes u, v\n",
    "    neighbors_u = nx.single_source_shortest_path_length(graph, u, cutoff=k)\n",
    "    neighbors_v = nx.single_source_shortest_path_length(graph, v, cutoff=k)\n",
    "\n",
    "    #Combine the 2 sets and add u and v\n",
    "    reachable_nodes = set(neighbors_u.keys()).union(set(neighbors_v.keys()))\n",
    "    reachable_nodes.add(u)\n",
    "    reachable_nodes.add(v)\n",
    "\n",
    "    # Find all edges where both nodes are in the reachable_nodes set\n",
    "    reachable_edges = set()\n",
    "    for node in reachable_nodes:\n",
    "        for neighbor in graph.neighbors(node):\n",
    "            if neighbor in reachable_nodes:\n",
    "                reachable_edges.add(tuple(sorted((node, neighbor))))\n",
    "    return reachable_edges"
   ]
  },
  {
   "cell_type": "code",
   "execution_count": 41,
   "metadata": {},
   "outputs": [],
   "source": [
    "def create_districts(graph, edges_to_select, k: int, j: int, lower_bound: float):\n",
    "    set_of_edges = set(graph.edges)\n",
    "    i = 0\n",
    "    while len(set_of_edges) != 0 and i<500:\n",
    "        if edges_to_select != []:\n",
    "            edge = edges_to_select[0]\n",
    "            edges_to_select.remove(edge)\n",
    "            from_list = True\n",
    "        else:\n",
    "            edge = random.choice(tuple(set_of_edges))\n",
    "            from_list = False\n",
    "        if from_list:\n",
    "            set_of_edge_neighbors = get_k_neighbour_edges_of_edge(graph, edge, j)\n",
    "        else:\n",
    "            set_of_edge_neighbors = get_k_neighbour_edges_of_edge(graph, edge, k)\n",
    "\n",
    "        u, v = edge\n",
    "        set_of_edge_neighbors.add(edge)\n",
    "        intersection = set_of_edge_neighbors.intersection(set_of_edges)\n",
    "        if float(len(intersection)/len(set_of_edge_neighbors)) >= lower_bound: \n",
    "            graph[u][v]['center_leader'] = True\n",
    "            graph[u][v]['center_number'] = i\n",
    "            graph[u][v]['in_district'] = True   \n",
    "            for neighbor_edge in set_of_edge_neighbors:\n",
    "                if neighbor_edge in set_of_edges:\n",
    "                    u, v = neighbor_edge\n",
    "                    graph[u][v]['center_number'] = i\n",
    "                    graph[u][v]['in_district'] = True\n",
    "            i += 1\n",
    "        else:\n",
    "            little_step_set_of_edge_neighbors = get_k_neighbour_edges_of_edge(graph, edge, 1)\n",
    "            attributes = set()\n",
    "            for helper_edge in little_step_set_of_edge_neighbors:\n",
    "                x, y = helper_edge\n",
    "                attributes.add(graph[x][y]['center_number'])\n",
    "            if len(attributes) == 0:\n",
    "                little_step_set_of_edge_neighbors = get_k_neighbour_edges_of_edge(graph, edge, 2)\n",
    "                for helper_edge in little_step_set_of_edge_neighbors:\n",
    "                    x, y = helper_edge\n",
    "                    attributes.add(graph[x][y]['center_number'])\n",
    "            graph[u][v]['center_number'] = random.choice(tuple(attributes))\n",
    "            graph[u][v]['in_district'] = True\n",
    "        set_of_edges = set_of_edges - set_of_edge_neighbors\n",
    "    return i"
   ]
  },
  {
   "cell_type": "code",
   "execution_count": 42,
   "metadata": {},
   "outputs": [],
   "source": [
    "def plot_graph_data_debug(G):\n",
    "    # Retrieve the position of the nodes from the 'pos' attribute\n",
    "    pos = nx.get_node_attributes(G, 'pos')\n",
    "\n",
    "    # Separate the edges based on the 'in_district' attribute\n",
    "    edges_in_district = [(u, v) for u, v, d in G.edges(data=True) if d['center_leader']]\n",
    "    edges_out_district = [(u, v) for u, v, d in G.edges(data=True) if not d['center_leader']]\n",
    "\n",
    "    # Draw the entire graph but without edges (so we can control edge colors separately)\n",
    "    nx.draw(G, pos, with_labels=False, node_size=1, edge_color='none') \n",
    "\n",
    "    # Draw edges with custom colors\n",
    "    nx.draw_networkx_edges(G, pos, edgelist=edges_in_district, edge_color='black', width=4)\n",
    "    nx.draw_networkx_edges(G, pos, edgelist=edges_out_district, edge_color='green', width=1)\n",
    "    # Display the plot\n",
    "    plt.show()"
   ]
  },
  {
   "cell_type": "code",
   "execution_count": 43,
   "metadata": {},
   "outputs": [],
   "source": [
    "class Edges:\n",
    "    def __init__(self, from_node, to_node, edge_id=\"\", weight=0, pairs_it_connects=[]):\n",
    "        self.edge_id = edge_id\n",
    "        self.from_node = from_node\n",
    "        self.to_node = to_node\n",
    "        self.weight = weight\n",
    "        self.pairs_it_connects = pairs_it_connects\n",
    "\n",
    "def get_edges_from_shortest_path(graph, node1, node2, weight):\n",
    "    road = nx.dijkstra_path(graph, node1, node2, weight = weight)\n",
    "    list_of_edges = []\n",
    "    for i in range(len(road)-1):\n",
    "        list_of_edges.append(Edges(road[i], road[i+1], graph[road[i]][road[i+1]]['edge_id'], 0, [node1, node2]))\n",
    "    return list_of_edges\n",
    "\n",
    "def update_all_edges(all_edges, road):\n",
    "    edge_ids_in_all_edges = []\n",
    "    for edge in all_edges:\n",
    "        edge_ids_in_all_edges.append(edge.edge_id)\n",
    "    edge_ids_in_roads = []\n",
    "    for edge in road:\n",
    "        edge_ids_in_roads.append(edge.edge_id)\n",
    "    for id in edge_ids_in_roads:\n",
    "        if id in edge_ids_in_all_edges:\n",
    "            index_all_edges = edge_ids_in_all_edges.index(id)\n",
    "            index_road = edge_ids_in_roads.index(id)\n",
    "            all_edges[index_all_edges].pairs_it_connects.append(road[index_road].pairs_it_connects)\n",
    "            all_edges[index_all_edges].weight += road[index_road].weight\n",
    "        else:\n",
    "            index_road = edge_ids_in_roads.index(id)\n",
    "            all_edges.append(road[index_road])\n",
    "        \n",
    "            \n",
    "\n",
    "def get_shortest_paths_edges(graph):\n",
    "    district_leaders = [(u, v) for u, v, d in graph.edges(data=True) if d['center_leader']]\n",
    "    nodes_from = [district_leaders[i][0] for i in range(len(district_leaders))]\n",
    "    nodes_to = [district_leaders[i][1] for i in range(len(district_leaders))]\n",
    "    all_edges = []\n",
    "    for node1 in nodes_from:\n",
    "        for node2 in nodes_to:\n",
    "            road = get_edges_from_shortest_path(graph, node1, node2, 'average_traveling_time')\n",
    "            update_all_edges(all_edges, road)\n",
    "\n",
    "    return len(all_edges)\n",
    "    #print(nodes_from, nodes_to)"
   ]
  },
  {
   "cell_type": "code",
   "execution_count": null,
   "metadata": {},
   "outputs": [],
   "source": []
  },
  {
   "cell_type": "code",
   "execution_count": 44,
   "metadata": {},
   "outputs": [],
   "source": [
    "#Function to add the features to the network graph we created already\n",
    "def add_edge_features_from_xml(G, xml_filename, interval_begin):\n",
    "    # Parse the XML file\n",
    "    tree = ET.parse(xml_filename)\n",
    "    root = tree.getroot()\n",
    "    #Find the interval corresponding to the interval_begin time \n",
    "    interval = root.find(f'.//interval[@begin=\"{interval_begin}\"]')\n",
    "    #Extract all the features of the edges\n",
    "    edges = interval.findall('.//edge')\n",
    "    for edge in edges:\n",
    "        edge_id = edge.get('id')\n",
    "        edge_features = {}\n",
    "        edge_features['left'] = edge.get('left')\n",
    "        #We can add other features here\n",
    "        #Iterate through the edges in the existing NetworkX graph\n",
    "        for xml_edge_id, xml_edge_data in G.edges.items():\n",
    "            if G.get_edge_data(xml_edge_id[0],xml_edge_id[1])['edge_id'] == edge_id:\n",
    "                G.edges[xml_edge_id].update(edge_features)\n",
    "    return G"
   ]
  },
  {
   "cell_type": "code",
   "execution_count": 45,
   "metadata": {},
   "outputs": [],
   "source": [
    "#Function to convert the networkx graph into a pytorch graph object\n",
    "def nx_to_pyg(graph):\n",
    "    # Convert NetworkX graph to PyTorch Geometric Data object\n",
    "    pyg_data = Data.Data()\n",
    "    #We have to number the nodes, because that is how Data object works\n",
    "    # Mapping between string node IDs and numerical indices\n",
    "    node_id_to_index = {node_id: i for i, node_id in enumerate(graph.nodes)}\n",
    "\n",
    "    # Set node features\n",
    "    num_nodes = graph.number_of_nodes()\n",
    "    node_features = np.zeros((num_nodes, 2))  # Assuming num_features is known, this is important to change, if we want to change something, altough I do not think that will be the case for us\n",
    "    for i, (node, features) in enumerate(graph.nodes(data=True)):\n",
    "        node_features[i] = [features['pos'][0], features['pos'][1]]  # Add node features accordingly, this case the coordinates\n",
    "    pyg_data.x = torch.tensor(node_features, dtype=torch.float)\n",
    "\n",
    "    # Set edge features and edge indices\n",
    "    edge_index = []\n",
    "    edge_features = []\n",
    "    for u, v, features in graph.edges(data=True):\n",
    "        # Map string node IDs to numerical indices\n",
    "        u_index = node_id_to_index[u]\n",
    "        v_index = node_id_to_index[v]\n",
    "        edge_index.append([u_index, v_index])\n",
    "        edge_features.append([float(features['left'])])  # Add edge features accordingly, if we add more features, we have to change this line\n",
    "\n",
    "    pyg_data.edge_index = torch.tensor(edge_index, dtype=torch.long).t().contiguous()\n",
    "    pyg_data.edge_attr = torch.tensor(edge_features, dtype=torch.float)\n",
    "\n",
    "    return pyg_data"
   ]
  },
  {
   "cell_type": "code",
   "execution_count": 46,
   "metadata": {},
   "outputs": [],
   "source": [
    "#Function to prepare the data (list of pytorch graph objects with the correct node and edge features)\n",
    "def data_preparation(data, edges_to_hide, constant_normalization):\n",
    "    prepared_training_data = []\n",
    "    prepared_test_data = []\n",
    "    summa = 0\n",
    "    for graph in data:\n",
    "        edge_features = graph.edge_attr\n",
    "        if constant_normalization==False:\n",
    "            max_value = edge_features.max()\n",
    "        else:\n",
    "            max_value = (2*1800)/4 #In Győr for the majority of the city there's only 2 lanes on the busiest road\n",
    "        normalized_edge_features = edge_features / max_value\n",
    "        graph.edge_attr = normalized_edge_features\n",
    "        graph_test = graph.clone()\n",
    "        edge_features_to_sum = graph_test.edge_attr\n",
    "        squared_edge_features = edge_features_to_sum**2\n",
    "        summa += squared_edge_features.mean()\n",
    "        graph.edge_attr[edges_to_hide] = -1\n",
    "        prepared_training_data.append(graph)\n",
    "        prepared_test_data.append(graph_test)\n",
    "    return prepared_training_data, prepared_test_data, summa/len(data)"
   ]
  },
  {
   "cell_type": "code",
   "execution_count": null,
   "metadata": {},
   "outputs": [],
   "source": []
  },
  {
   "cell_type": "code",
   "execution_count": 47,
   "metadata": {},
   "outputs": [
    {
     "name": "stdout",
     "output_type": "stream",
     "text": [
      "[('gneJ696', 'gneJ536'), ('2898894872', '391289186'), ('865267201', '4706812286'), ('3991156213', '1225263674'), ('cluster_3978171576_3978171580', 'cluster_1184150873_3924962296_3978171567'), ('cluster_gneJ437_gneJ438', 'gneJ439'), ('cluster_gneJ464_gneJ465', 'gneJ466'), ('cluster_gneJ514_gneJ515', 'gneJ516'), ('cluster_gneJ555_gneJ556', 'gneJ557'), ('cluster_gneJ568_gneJ569', 'gneJ570'), ('gneJ536', 'gneJ698'), ('2980962782', '3166331026'), ('1416081311', '370502491')]\n",
      "20\n",
      "270\n"
     ]
    },
    {
     "data": {
      "image/png": "[encoded data removed]",
      "text/plain": [
       "<Figure size 640x480 with 1 Axes>"
      ]
     },
     "metadata": {},
     "output_type": "display_data"
    }
   ],
   "source": [
    "G1 = read_sumo_net2('../Data/s_gyor.net.xml') # type: ignore\n",
    "edges_to_select = get_start_end_points(G1)\n",
    "print(edges_to_select)\n",
    "G1.remove_edge('370502474', 'cluster_1184280674_4523347826_4523347827')\n",
    "G1.remove_node('370502474')\n",
    "G1.remove_node('cluster_1184280674_4523347826_4523347827')\n",
    "#results = []\n",
    "print(create_districts(G1, edges_to_select, 3, 7, 0.3))\n",
    "print(get_shortest_paths_edges(G1))\n",
    "plot_graph_data_debug(G1)"
   ]
  },
  {
   "cell_type": "code",
   "execution_count": 48,
   "metadata": {},
   "outputs": [],
   "source": [
    "data = torch.load('../Data/data.pth')"
   ]
  },
  {
   "cell_type": "code",
   "execution_count": null,
   "metadata": {},
   "outputs": [],
   "source": [
    "def get_weight_from_pytorch(nx_graph, pytorch_graph):\n",
    "    node_id_to_index = {node_id: i for i, node_id in enumerate(nx_graph.nodes)}\n",
    "    index_to_node_id = {i: node_id for node_id, i in node_id_to_index.items()}\n",
    "    for edge in nx_graph.ed"
   ]
  },
  {
   "cell_type": "code",
   "execution_count": 37,
   "metadata": {},
   "outputs": [
    {
     "name": "stdout",
     "output_type": "stream",
     "text": [
      "[[0, 1], [0, 411], [1, 197], [1, 198], [2, 3], [2, 114], [2, 218], [3, 218], [3, 365], [4, 5], [4, 6], [4, 142], [5, 143], [5, 371], [6, 7], [7, 232], [7, 140], [8, 9], [8, 233], [8, 312], [9, 259], [10, 11], [10, 12], [11, 78], [11, 83], [11, 306], [12, 303], [12, 304], [12, 400], [13, 14], [13, 40], [13, 86], [13, 219], [14, 101], [14, 219], [14, 373], [15, 16], [15, 26], [16, 177], [17, 18], [17, 19], [18, 64], [18, 256], [18, 405], [19, 326], [20, 21], [20, 22], [21, 217], [21, 140], [22, 23], [23, 58], [24, 25], [24, 247], [25, 26], [26, 150], [26, 221], [27, 28], [27, 112], [27, 146], [27, 314], [29, 30], [29, 32], [29, 291], [29, 404], [30, 47], [31, 32], [31, 84], [31, 290], [32, 403], [32, 404], [33, 34], [33, 35], [34, 102], [34, 405], [35, 49], [35, 339], [36, 37], [36, 344], [36, 341], [36, 191], [37, 98], [37, 191], [37, 290], [37, 291], [38, 39], [38, 40], [38, 223], [41, 42], [41, 43], [42, 339], [42, 410], [43, 44], [44, 45], [45, 46], [46, 338], [47, 48], [47, 345], [48, 334], [48, 343], [49, 50], [51, 52], [51, 53], [52, 224], [52, 369], [54, 55], [54, 56], [54, 298], [54, 118], [55, 301], [55, 296], [56, 57], [58, 125], [58, 234], [58, 360], [59, 60], [60, 256], [60, 329], [61, 62], [61, 63], [61, 294], [61, 372], [62, 233], [62, 121], [63, 295], [64, 65], [64, 240], [65, 66], [66, 240], [67, 68], [68, 264], [68, 293], [68, 131], [69, 70], [69, 71], [70, 256], [70, 324], [70, 282], [71, 72], [72, 73], [73, 74], [74, 75], [75, 145], [75, 320], [75, 378], [76, 77], [76, 412], [77, 115], [78, 126], [79, 80], [79, 81], [80, 101], [80, 126], [81, 82], [82, 83], [84, 152], [84, 379], [85, 86], [85, 87], [87, 237], [87, 349], [88, 89], [88, 272], [88, 274], [89, 250], [90, 91], [90, 262], [90, 163], [91, 408], [91, 409], [92, 93], [92, 401], [92, 261], [93, 242], [93, 163], [94, 95], [94, 122], [94, 325], [94, 356], [95, 192], [95, 231], [95, 316], [95, 378], [96, 97], [96, 264], [96, 297], [98, 181], [99, 100], [99, 270], [99, 271], [100, 137], [100, 267], [100, 365], [101, 220], [102, 103], [103, 104], [104, 105], [105, 106], [106, 349], [107, 108], [107, 358], [109, 110], [109, 111], [110, 117], [110, 130], [110, 303], [111, 120], [111, 354], [111, 357], [112, 113], [113, 318], [114, 115], [116, 117], [117, 231], [117, 354], [118, 119], [118, 296], [118, 299], [120, 121], [121, 312], [122, 313], [123, 124], [123, 149], [123, 358], [124, 129], [124, 358], [127, 128], [127, 204], [127, 196], [130, 131], [130, 132], [130, 293], [131, 259], [131, 357], [133, 134], [133, 318], [134, 315], [134, 318], [135, 136], [137, 138], [138, 365], [139, 140], [139, 141], [143, 144], [146, 186], [146, 385], [147, 148], [148, 261], [148, 287], [148, 252], [151, 152], [151, 154], [151, 379], [153, 154], [153, 155], [155, 366], [156, 157], [156, 159], [157, 278], [158, 159], [158, 161], [158, 380], [159, 278], [160, 161], [160, 368], [160, 380], [162, 163], [162, 165], [162, 381], [164, 165], [164, 166], [164, 381], [166, 167], [166, 382], [167, 169], [167, 382], [167, 168], [167, 386], [167, 387], [167, 388], [167, 389], [168, 169], [168, 170], [170, 171], [171, 172], [172, 174], [172, 173], [173, 174], [173, 175], [175, 176], [176, 253], [177, 391], [177, 393], [178, 179], [178, 243], [179, 180], [180, 383], [180, 396], [180, 397], [181, 182], [182, 183], [183, 185], [183, 384], [184, 185], [184, 367], [184, 384], [186, 187], [187, 188], [188, 370], [189, 190], [190, 392], [190, 395], [192, 315], [193, 194], [193, 248], [193, 241], [195, 196], [195, 286], [196, 204], [197, 203], [197, 271], [198, 199], [198, 273], [199, 200], [199, 272], [200, 201], [200, 265], [201, 202], [201, 276], [202, 203], [202, 311], [203, 269], [204, 205], [204, 285], [204, 351], [205, 206], [207, 208], [207, 212], [207, 257], [207, 297], [208, 209], [208, 294], [209, 210], [210, 299], [210, 300], [211, 212], [211, 259], [213, 214], [213, 229], [214, 215], [215, 216], [216, 300], [216, 317], [217, 224], [217, 232], [219, 375], [220, 222], [220, 303], [221, 245], [222, 223], [225, 226], [225, 228], [225, 230], [225, 268], [226, 227], [227, 282], [228, 229], [230, 320], [232, 369], [233, 257], [235, 236], [235, 323], [235, 349], [236, 237], [236, 238], [238, 239], [239, 321], [239, 319], [240, 321], [241, 242], [243, 244], [244, 383], [245, 246], [246, 247], [246, 248], [246, 249], [249, 353], [249, 263], [250, 332], [250, 340], [251, 252], [251, 293], [251, 408], [251, 255], [254, 255], [254, 289], [255, 293], [256, 267], [258, 259], [258, 264], [259, 260], [260, 264], [262, 263], [263, 286], [264, 278], [265, 266], [266, 275], [266, 329], [267, 309], [267, 310], [268, 325], [269, 270], [270, 348], [273, 274], [275, 276], [277, 278], [278, 279], [278, 280], [278, 281], [280, 376], [281, 352], [282, 283], [282, 309], [283, 284], [284, 365], [285, 376], [286, 287], [286, 376], [287, 288], [287, 289], [288, 353], [289, 377], [292, 293], [295, 313], [295, 317], [296, 297], [297, 302], [303, 305], [303, 307], [303, 308], [304, 409], [305, 306], [306, 406], [307, 407], [308, 315], [310, 311], [310, 348], [315, 316], [318, 319], [321, 322], [321, 323], [322, 324], [326, 327], [326, 328], [326, 329], [327, 329], [328, 330], [328, 331], [330, 332], [330, 331], [330, 334], [330, 335], [331, 333], [332, 335], [333, 339], [333, 410], [334, 335], [336, 337], [337, 339], [340, 341], [340, 346], [341, 342], [342, 343], [344, 345], [346, 347], [347, 402], [350, 351], [352, 377], [354, 355], [354, 372], [355, 356], [358, 359], [358, 360], [358, 361], [359, 406], [359, 407], [360, 362], [360, 363], [363, 364], [373, 374], [374, 375], [376, 377], [382, 386], [386, 390], [391, 392], [392, 394], [392, 395], [393, 394], [394, 397], [394, 399], [395, 396], [396, 397], [397, 398], [400, 401], [402, 403]]\n",
      "{'2898894872': 0, '1182626900': 1, 'cluster_365935391_gneJ681': 2, '3192392567': 3, 'cluster_2722529171_gneJ401': 4, '865267201': 5, '1416081293': 6, '865267163': 7, '310013392': 8, 'cluster_1182772225_3192392684': 9, '4386097268': 10, 'cluster_1186526849_gneJ146': 11, 'cluster_cluster_312711598_gneJ154_gneJ199_gneJ220': 12, '1225262867': 13, 'cluster_1186527363_gneJ266': 14, '278638586': 15, 'cluster_1186526900_gneJ530': 16, '3961964028': 17, 'cluster_271395220_gneJ92': 18, '1225263340': 19, '1416081299': 20, '865267161': 21, '2693664986': 22, '865267333': 23, 'gneJ253': 24, 'gneJ699': 25, 'cluster_499322353_gneJ427': 26, 'cluster_371086199_gneJ299': 27, '3168945341': 28, 'cluster_cluster_1225262682_gneJ110_gneJ114': 29, '332059180': 30, '289029344': 31, 'cluster_cluster_1225262893_gneJ83_gneJ119': 32, 'cluster_1322252197_1344649674': 33, 'cluster_1225262732_gneJ88': 34, '1225263707': 35, 'cluster_cluster_332059175_gneJ92_gneJ101': 36, 'cluster_289029338_gneJ105': 37, '1225263519': 38, '1225263090': 39, '4905635225': 40, '1225263451': 41, 'cluster_1225262689_gneJ279': 42, 'cluster_3991653896_3991653897': 43, '3991653888': 44, '3991653884': 45, '3991156213': 46, 'cluster_332059171_gneJ98': 47, '332059172': 48, '1344649688': 49, '1248738570': 50, '2916306951': 51, '1269487181': 52, '380454085': 53, 'cluster_4925788200_4925788204': 54, '1374845868': 55, '1374845859': 56, '1374845855': 57, 'cluster_1610806145_371086195': 58, '3132111181': 59, '1431425467': 60, '1140866550': 61, '1508952856': 62, '1638776753': 63, '2669449041': 64, 'cluster_gneJ637_gneJ650': 65, 'cluster_gneJ638_gneJ641': 66, '1804316584': 67, '593274977': 68, 'cluster_3192392547_4864155375': 69, '380456459': 70, '3192392551': 71, '1140717101': 72, 'cluster_1706709069_4926612932': 73, '1826769845': 74, 'cluster_2894959538_gneJ29': 75, 'cluster_3978171576_3978171580': 76, '365935392': 77, 'cluster_1826769919_3730611599': 78, '312711597': 79, '3730612641': 80, '2137104268': 81, '2137104346': 82, '3730611608': 83, 'cluster_60054570_gneJ431': 84, '276775027': 85, '1985611006': 86, '1702275361': 87, '2898894874': 88, '2898894875': 89, 'cluster_cluster_gneJ208_gneJ211_gneJ209': 90, 'cluster_cluster_cluster_cluster_cluster_cluster_gneJ164_gneJ171_gneJ167_gneJ190_gneJ200_gneJ210_gneJ205': 91, 'cluster_cluster_cluster_cluster_gneJ165_gneJ170_gneJ178_gneJ221_gneJ222': 92, 'cluster_cluster_gneJ220_gneJ221_gneJ218': 93, '289028665': 94, 'cluster_cluster_289028592_gneJ32_gneJ89_gneJ92': 95, '1182613054': 96, '314308789': 97, 'cluster_289030612_gneJ548': 98, '311727746': 99, '312711008': 100, '312712187': 101, '1752887435': 102, '1225262709': 103, '1760025970': 104, '1225262609': 105, '4916835547': 106, '1416081311': 107, '370502491': 108, '1416081318': 109, '314183164': 110, '593274978': 111, '3168945332': 112, '3168945318': 113, '3192392599': 114, '1186526409': 115, '1140866616': 116, 'cluster_1140866508_1416081317': 117, '432621758': 118, 'cluster_1374845846_1405335012': 119, '1638776765': 120, '1871871046': 121, '1140866444': 122, 'cluster_1189420802_gneJ397': 123, '370502482': 124, '4987714488': 125, '3730612637': 126, 'cluster_cluster_2907020052_gneJ382_gneJ378': 127, '2894959558': 128, '865267352': 129, '593274974': 130, '593293219': 131, '1826769859': 132, 'cluster_gneJ654_gneJ660': 133, 'cluster_cluster_cluster_3192392548_gneJ80_gneJ83_gneJ655': 134, 'cluster_1184280674_4523347826_4523347827': 135, '370502474': 136, 'cluster_gneJ684_gneJ691': 137, 'cluster_gneJ689_gneJ690': 138, '865267361': 139, '865267151': 140, '2916306946': 141, '865267189': 142, '1982987916': 143, '1982987985': 144, '2894959535': 145, 'cluster_cluster_gneJ300_gneJ563_gneJ571': 146, 'gneJ393': 147, 'cluster_cluster_cluster_cluster_cluster_cluster_1182613169_332046632_3730611588_gneJ2_gneJ8_gneJ388_gneJ389_gneJ391_gneJ392': 148, 'gneJ398': 149, 'gneJ426': 150, 'gneJ432': 151, 'gneJ456': 152, 'cluster_gneJ435_gneJ436': 153, 'gneJ434': 154, 'cluster_gneJ437_gneJ438': 155, 'gneJ484': 156, 'gneJ483': 157, 'cluster_gneJ462_gneJ463': 158, 'gneJ459': 159, 'cluster_gneJ464_gneJ465': 160, 'gneJ601': 161, 'cluster_gneJ492_gneJ493': 162, 'cluster_gneJ210_gneJ222_gneJ491': 163, 'cluster_gneJ494_gneJ496': 164, 'gneJ528': 165, 'cluster_gneJ497_gneJ498': 166, 'cluster_cluster_gneJ499_gneJ500_gneJ580_gneJ583_gneJ585_gneJ586': 167, 'cluster_gneJ501_gneJ503': 168, 'gneJ589': 169, 'cluster_gneJ504_gneJ505': 170, 'cluster_gneJ506_gneJ507': 171, 'cluster_gneJ508_gneJ509': 172, 'cluster_gneJ510_gneJ511': 173, 'gneJ596': 174, 'gneJ512': 175, 'cluster_gneJ514_gneJ515': 176, 'cluster_gneJ531_gneJ602_gneJ607': 177, 'gneJ696': 178, 'gneJ695': 179, 'cluster_gneJ535_gneJ627_gneJ628': 180, 'cluster_gneJ549_gneJ550': 181, 'cluster_gneJ551_gneJ552': 182, 'cluster_gneJ553_gneJ554': 183, 'cluster_gneJ555_gneJ556': 184, 'gneJ599': 185, 'cluster_gneJ564_gneJ565': 186, 'cluster_gneJ566_gneJ567': 187, 'cluster_gneJ568_gneJ569': 188, 'gneJ619': 189, 'cluster_gneJ615_gneJ616_gneJ618': 190, 'cluster_gneJ102_gneJ104': 191, 'cluster_gneJ91_gneJ96': 192, 'cluster_cluster_1355696699_gneJ230_gneJ233': 193, 'gneJ229': 194, '1182613046': 195, 'cluster_1182613001_gneJ376_gneJ377': 196, '2917038141': 197, '1182626924': 198, '1182626946': 199, '2917038173': 200, '1182626912': 201, '2917038147': 202, '2997136966': 203, 'cluster_1182613078_2907020053_2907020057_2907020069_gneJ369_gneJ381': 204, 'gneJ367': 205, 'gneJ387': 206, '830321479': 207, '1140866483': 208, '1405335002': 209, '289028594': 210, '1182612974': 211, '3192392707': 212, '1140717107': 213, '3276210115': 214, '1405334988': 215, '1182772230': 216, '865267369': 217, 'cluster_gneJ679_gneJ680': 218, 'cluster_gneJ268_gneJ275': 219, 'cluster_1416081313_cluster_1225263029_gneJ131': 220, 'gneJ262': 221, 'cluster_1416081314_4703883780': 222, '3168945298': 223, '1416081294': 224, '432621768': 225, '432610868': 226, 'cluster_432621773_gneJ268': 227, 'cluster_3192392585_3192392586': 228, '432610866': 229, '1826769948': 230, '1225263169': 231, '1186526720': 232, '1508952878': 233, '1186527313': 234, '1702275363': 235, '1702275336': 236, '4916835535': 237, '4916835540': 238, '1702275354': 239, '1760025974': 240, '1355696703': 241, 'cluster_gneJ216_gneJ217': 242, 'gneJ536': 243, 'gneJ698': 244, 'cluster_gneJ243_gneJ247': 245, 'cluster_cluster_cluster_305586685_gneJ236_gneJ248_gneJ251': 246, 'cluster_gneJ245_gneJ252': 247, 'cluster_cluster_gneJ235_gneJ237_gneJ234': 248, 'cluster_cluster_305586686_gneJ256_gneJ244': 249, 'cluster_cluster_1225262683_2898894854_gneJ63': 250, 'cluster_cluster_cluster_276755916_gneJ285_gneJ293_gneJ158': 251, 'cluster_cluster_370500700_gneJ7_gneJ390': 252, 'gneJ516': 253, 'cluster_gneJ283_gneJ321': 254, 'cluster_cluster_1182613076_gneJ284_gneJ288': 255, '312711165': 256, '2706632345': 257, 'gneJ404': 258, '593274980': 259, 'cluster_gneJ277_gneJ278': 260, 'cluster_cluster_gneJ162_gneJ179_gneJ223': 261, '1244242216': 262, 'cluster_cluster_1182613067_cluster_1182612960_gneJ259_gneJ356': 263, '314309653': 264, '1590501071': 265, '2917038170': 266, '432621779': 267, '4923673781': 268, '1590501091': 269, '2917038151': 270, '2917038153': 271, '1590501069': 272, '2917038158': 273, '1751084049': 274, '3936317575': 275, '2917038175': 276, 'gneJ474': 277, 'cluster_cluster_cluster_cluster_cluster_314309924_gneJ280_gneJ281_gneJ458_gneJ471_gneJ476_gneJ475': 278, 'gneJ477': 279, 'cluster_1590822156_gneJ345': 280, 'gneJ322': 281, 'cluster_432621776_gneJ269': 282, 'cluster_1186526486_gneJ675': 283, 'cluster_432610859_gneJ676': 284, 'cluster_1182613111_gneJ345': 285, 'cluster_cluster_1182612933_gneJ309_gneJ357_gneJ308': 286, 'cluster_cluster_2917038181_gneJ3_gneJ307_gneJ349_gneJ352': 287, 'cluster_cluster_gneJ351_gneJ353_gneJ699': 288, 'cluster_cluster_cluster_gneJ320_gneJ326_gneJ315_gneJ348': 289, '3935962986': 290, 'cluster_3935962991_gneJ109': 291, '278644865': 292, 'cluster_cluster_314316238_cluster_1182613015_gneJ289_gneJ292': 293, '1182772207': 294, '289028061': 295, '830321487': 296, '1140752465': 297, '830321480': 298, 'cluster_1405335006_1405335013': 299, '1405334997': 300, '830321477': 301, '830321481': 302, 'cluster_cluster_cluster_cluster_3192392565_cluster_gneJ106_gneJ123_cluster_cluster_cluster_2907026059_gneJ118_gneJ114_gneJ122_gneJ115_gneJ130': 303, 'cluster_gneJ197_gneJ198': 304, 'cluster_gneJ113_gneJ134': 305, 'cluster_cluster_gneJ135_gneJ139_gneJ145': 306, 'cluster_gneJ116_gneJ160': 307, 'cluster_cluster_cluster_2669449030_gneJ104_gneJ107_cluster_gneJ105_gneJ117': 308, 'gneJ267': 309, '530565525': 310, '1590501087': 311, '1871871069': 312, '3192392614': 313, '371086208': 314, 'cluster_cluster_cluster_289029346_gneJ81_gneJ82_gneJ94_gneJ95': 315, 'cluster_gneJ90_gneJ93': 316, '3192392619': 317, 'cluster_3168945324_cluster_284799528_3168945327': 318, '1985611011': 319, '4923673782': 320, '380456455': 321, 'cluster_gneJ669_gneJ671': 322, '4916835541': 323, 'cluster_gneJ670_gneJ672': 324, '4923673800': 325, 'cluster_311727337_gneJ83': 326, 'cluster_gneJ80_gneJ82': 327, '1225262708': 328, 'cluster_311727485_gneJ79': 329, 'cluster_cluster_1225262570_314559558_332059165_gneJ416': 330, '314560039': 331, 'cluster_cluster_gneJ406_gneJ415_gneJ418': 332, 'cluster_cluster_1225262611_1225263130_gneJ278': 333, '60054572': 334, 'cluster_gneJ419_gneJ421': 335, '2980962782': 336, '3166331026': 337, '1225263674': 338, '1225263728': 339, 'cluster_1225262780_gneJ66': 340, '315050958': 341, 'cluster_1225263060_2225547017': 342, '332059169': 343, 'cluster_gneJ87_gneJ93': 344, 'cluster_gneJ88_gneJ97': 345, 'gneJ67': 346, 'gneJ71': 347, '4069904247': 348, '312711563': 349, '1182613109': 350, 'cluster_gneJ366_gneJ368': 351, 'cluster_cluster_cluster_276756005_gneJ0_gneJ325_gneJ323': 352, 'cluster_gneJ694_gneJ700': 353, '1140866679': 354, '1225263431': 355, '3192392594': 356, '1182772245': 357, '2907026062': 358, 'cluster_cluster_305112247_gneJ156_gneJ164': 359, 'cluster_cluster_1600331058_1610806147_gneJ304': 360, '371083519': 361, '1600331062': 362, 'cluster_gneJ303_gneJ307': 363, 'gneJ306': 364, 'cluster_365935389_4924343194': 365, 'gneJ439': 366, 'gneJ557': 367, 'gneJ466': 368, '1416081292': 369, 'gneJ570': 370, '4706812286': 371, '1140866677': 372, 'cluster_gneJ267_gneJ269': 373, 'gneJ700': 374, 'cluster_gneJ270_gneJ274': 375, 'cluster_gneJ310_gneJ311_gneJ344_gneJ346': 376, 'cluster_cluster_cluster_gneJ314_gneJ324_gneJ312_gneJ363': 377, 'cluster_gneJ30_gneJ31': 378, 'gneJ455': 379, 'gneJ600': 380, 'gneJ527': 381, 'cluster_cluster_gneJ576_gneJ577_gneJ592_gneJ594': 382, 'gneJ697': 383, 'gneJ598': 384, 'gneJ572': 385, 'cluster_gneJ578_gneJ581_gneJ590': 386, 'gneJ582': 387, 'gneJ584': 388, 'gneJ587': 389, 'gneJ591': 390, 'cluster_gneJ603_gneJ604': 391, 'cluster_gneJ605_gneJ611_gneJ612_gneJ614': 392, 'cluster_gneJ606_gneJ609': 393, 'cluster_gneJ608_gneJ610_gneJ625_gneJ633': 394, 'cluster_gneJ613_gneJ617_gneJ620': 395, 'cluster_gneJ621_gneJ622_gneJ626': 396, 'cluster_gneJ623_gneJ624_gneJ629_gneJ630': 397, 'gneJ631': 398, 'gneJ632': 399, 'cluster_gneJ663_gneJ666': 400, 'cluster_gneJ664_gneJ665': 401, 'gneJ74': 402, 'gneJ78': 403, 'cluster_gneJ115_gneJ118': 404, 'cluster_gneJ89_gneJ91': 405, 'cluster_gneJ140_gneJ157': 406, 'cluster_gneJ161_gneJ163': 407, 'cluster_cluster_cluster_cluster_gneJ150_gneJ159_gneJ166_gneJ189_gneJ204': 408, 'cluster_gneJ196_gneJ211': 409, 'gneJ425': 410, '391289186': 411, 'cluster_1184150873_3924962296_3978171567': 412}\n",
      "cluster_2722529171_gneJ401\n"
     ]
    }
   ],
   "source": [
    "G1 = read_sumo_net2('../Data/s_gyor.net.xml') # type: ignore\n",
    "node_id_to_index = {node_id: i for i, node_id in enumerate(G1.nodes)}\n",
    "index_to_node_id = {i: node_id for node_id, i in node_id_to_index.items()}\n",
    "#key = next((k for k, v in my_dict.items() if v == value_to_find), None)\n",
    "\n",
    "edge_index = []\n",
    "edge_features = []\n",
    "for u, v, features in G1.edges(data=True):\n",
    "    # Map string node IDs to numerical indices\n",
    "    u_index = node_id_to_index[u]\n",
    "    v_index = node_id_to_index[v]\n",
    "    edge_index.append([u_index, v_index])\n",
    "    #edge_features.append([float(features['left'])])  # Add edge features accordingly, if we add more features, we have to change this line\n",
    "print(edge_index)\n",
    "print(node_id_to_index)"
   ]
  },
  {
   "cell_type": "code",
   "execution_count": 32,
   "metadata": {},
   "outputs": [
    {
     "name": "stdout",
     "output_type": "stream",
     "text": [
      "504\n"
     ]
    }
   ],
   "source": [
    "print(len(data[0].edge_index[0]))"
   ]
  },
  {
   "cell_type": "code",
   "execution_count": null,
   "metadata": {},
   "outputs": [],
   "source": []
  }
 ],
 "metadata": {
  "kernelspec": {
   "display_name": "tf",
   "language": "python",
   "name": "python3"
  },
  "language_info": {
   "codemirror_mode": {
    "name": "ipython",
    "version": 3
   },
   "file_extension": ".py",
   "mimetype": "text/x-python",
   "name": "python",
   "nbconvert_exporter": "python",
   "pygments_lexer": "ipython3",
   "version": "3.10.13"
  }
 },
 "nbformat": 4,
 "nbformat_minor": 2
}
