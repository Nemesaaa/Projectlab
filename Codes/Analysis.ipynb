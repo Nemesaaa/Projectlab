{
 "cells": [
  {
   "cell_type": "markdown",
   "metadata": {
    "vscode": {
     "languageId": "latex"
    }
   },
   "source": [
    "# Analysis\n",
    "In this notebook we have all the functions that are relevant to the analysis of the model. We are working with the following functions:\n",
    "\n",
    "#### evaluate_all_graphs\n",
    "##### inputs:\n",
    "1) model: The GNN model we train\n",
    "2) prepared_training_data: The list of the pytorch graphs we are working with for training (some of the edges are covered)\n",
    "3) prepared_test_data: The list of the pytorch graphs we are working with for testing the model (the edges are not covered)\n",
    "4) edges_to_hide: The list of the edge IDs to hide\n",
    "5) criterion: The loss function we are working with\n",
    "##### output:\n",
    "The average loss of the graphs.\n",
    "\n",
    "#### make_an_estimation\n",
    "##### inputs: \n",
    "1) edges_to_hide: The list of the edge IDs to hide\n",
    "2) model: The GNN model we train\n",
    "3) data_training: A single graph of the list of the pytorch graphs we are working with for training (some of the edges are covered)\n",
    "4) data_testing: A single graph of the the list of the pytorch graphs we are working with for testing the model (the edges are not covered)\n",
    "5) criterion: The loss function we are working with\n",
    "##### outputs:\n",
    "1) The loss of the output of the model\n",
    "2) The output of the model"
   ]
  },
  {
   "cell_type": "code",
   "execution_count": 1,
   "metadata": {},
   "outputs": [],
   "source": [
    "#Necessary imports\n",
    "import sumolib\n",
    "import networkx as nx\n",
    "import matplotlib\n",
    "import matplotlib.pyplot as plt\n",
    "import xml.etree.ElementTree as ET\n",
    "import random\n",
    "\n",
    "import torch\n",
    "import torch_geometric\n",
    "import torch_geometric.data as Data\n",
    "import torch_geometric.utils as pyg_utils\n",
    "\n",
    "import torch.nn as nn\n",
    "import torch.nn.functional as F\n",
    "from torch_geometric.nn import GCNConv\n",
    "import numpy as np\n",
    "import json\n",
    "import sys"
   ]
  },
  {
   "cell_type": "code",
   "execution_count": 4,
   "metadata": {},
   "outputs": [],
   "source": [
    "def evaluate_all_graphs(model, prepared_training_data, prepared_test_data, edges_to_hide, criterion):\n",
    "    total_loss = 0\n",
    "    for i in range(len(prepared_training_data)):\n",
    "        output = model(prepared_training_data[i].edge_attr, prepared_training_data[i].edge_index)\n",
    "        loss = criterion(output[edges_to_hide], prepared_test_data[i].edge_attr[edges_to_hide])\n",
    "        total_loss += loss\n",
    "    return total_loss/len(prepared_training_data)"
   ]
  },
  {
   "cell_type": "code",
   "execution_count": 3,
   "metadata": {},
   "outputs": [],
   "source": [
    "def make_an_estimation(edges_to_hide, model, data_training, data_testing, criterion):\n",
    "    edge_features = data_training.edge_attr\n",
    "    max_value = edge_features.max()\n",
    "    normalized_edge_features = edge_features / max_value\n",
    "    data_training.edge_attr = normalized_edge_features\n",
    "    output = model(data_training.edge_attr, data_training.edge_index)\n",
    "    loss = criterion(output[edges_to_hide], data_testing.edge_attr[edges_to_hide])\n",
    "    return loss, output"
   ]
  },
  {
   "cell_type": "code",
   "execution_count": 5,
   "metadata": {},
   "outputs": [],
   "source": [
    "def GEH(M, C):\n",
    "    geh = np.sqrt(2*np.power((float(M) - float(C)), 2) / (float(M) + float(C)))\n",
    "    return geh"
   ]
  },
  {
   "cell_type": "code",
   "execution_count": 1,
   "metadata": {},
   "outputs": [],
   "source": [
    "def evaluate_all_graphs_GEH(model, prepared_training_data, prepared_test_data, edges_to_hide):\n",
    "    total_loss = 0\n",
    "    for i in range(len(prepared_training_data)):\n",
    "        output = model(prepared_training_data[i].edge_attr, prepared_training_data[i].edge_index)\n",
    "        cur_loss = 0 \n",
    "        for j in edges_to_hide:\n",
    "            cur_loss += GEH( prepared_test_data[i].edge_attr[j], output[j])\n",
    "        total_loss += cur_loss\n",
    "    return total_loss/len(prepared_training_data)"
   ]
  },
  {
   "cell_type": "code",
   "execution_count": null,
   "metadata": {},
   "outputs": [],
   "source": [
    "def evaluate_all_graphs_forecasting(model, prepared_training_data, prepared_training_data_hidden ,prepared_test_data, prepared_test_data_hidden, edges_to_hide, criterion, time_step):\n",
    "    total_train_loss = 0\n",
    "    total_test_loss = 0\n",
    "    number_to_divide_with_train = 0\n",
    "    number_to_divide_with_test = 0\n",
    "    for i in range(len(prepared_training_data_hidden)):\n",
    "        train_loss_in_list = 0\n",
    "        for j in range(len(prepared_training_data_hidden[i])-1-time_step):\n",
    "            output = model(prepared_training_data_hidden[i][j].edge_attr, prepared_training_data_hidden[i][j].edge_index)\n",
    "            loss = criterion(output[edges_to_hide], prepared_training_data[i][j+time_step].edge_attr[edges_to_hide])\n",
    "            train_loss_in_list += loss\n",
    "            number_to_divide_with_train += 1\n",
    "        total_train_loss += train_loss_in_list\n",
    "\n",
    "    for i in range(len(prepared_test_data_hidden)):\n",
    "        test_loss_in_list = 0\n",
    "        for j in range(len(prepared_test_data_hidden[i])-1-time_step):\n",
    "            output = model(prepared_test_data_hidden[i][j].edge_attr, prepared_test_data_hidden[i][j].edge_index)\n",
    "            loss = criterion(output[edges_to_hide], prepared_test_data[i][j+time_step].edge_attr[edges_to_hide])\n",
    "            test_loss_in_list += loss\n",
    "            number_to_divide_with_test += 1\n",
    "        total_test_loss += test_loss_in_list\n",
    "    return total_train_loss/number_to_divide_with_train, total_test_loss/number_to_divide_with_test\n"
   ]
  },
  {
   "cell_type": "code",
   "execution_count": null,
   "metadata": {},
   "outputs": [],
   "source": []
  }
 ],
 "metadata": {
  "kernelspec": {
   "display_name": "tf",
   "language": "python",
   "name": "python3"
  },
  "language_info": {
   "codemirror_mode": {
    "name": "ipython",
    "version": 3
   },
   "file_extension": ".py",
   "mimetype": "text/x-python",
   "name": "python",
   "nbconvert_exporter": "python",
   "pygments_lexer": "ipython3",
   "version": "3.10.13"
  }
 },
 "nbformat": 4,
 "nbformat_minor": 2
}
