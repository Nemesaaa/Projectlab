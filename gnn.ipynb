{
 "cells": [
  {
   "cell_type": "code",
   "execution_count": 4,
   "metadata": {},
   "outputs": [],
   "source": [
    "import sumolib\n",
    "import networkx as nx\n",
    "import matplotlib.pyplot as plt\n",
    "import xml.etree.ElementTree as ET\n",
    "import random\n",
    "\n",
    "import torch\n",
    "import torch_geometric\n",
    "import torch_geometric.data as Data\n",
    "import torch_geometric.utils as pyg_utils\n",
    "\n",
    "import torch.nn as nn\n",
    "import torch.nn.functional as F\n",
    "from torch_geometric.nn import GCNConv\n",
    "import numpy as np\n",
    "\n",
    "\n"
   ]
  },
  {
   "cell_type": "markdown",
   "metadata": {},
   "source": [
    "First let's read in the graph file and see if it works properly"
   ]
  },
  {
   "cell_type": "markdown",
   "metadata": {},
   "source": [
    "## Data handling"
   ]
  },
  {
   "cell_type": "code",
   "execution_count": 5,
   "metadata": {},
   "outputs": [],
   "source": [
    "#Function to read in the network we work with into a networkx object with the nodes and edges, no features yet\n",
    "def read_sumo_net(filename):\n",
    "    net = sumolib.net.readNet(filename)\n",
    "    G = nx.Graph()\n",
    "    \n",
    "    # Add nodes\n",
    "    for node in net.getNodes():\n",
    "        G.add_node(node.getID(), pos=(node.getCoord()))\n",
    "    # Add edges\n",
    "    for edge in net.getEdges():\n",
    "        for lane in edge.getLanes():\n",
    "            edge_id = lane.getEdge().getID()\n",
    "            starting_node_id = net.getEdge(edge_id).getFromNode().getID()\n",
    "            ending_node_id = net.getEdge(edge_id).getToNode().getID()\n",
    "            G.add_edge(starting_node_id, ending_node_id, edge_id = edge_id)\n",
    "    return G\n",
    "\n",
    "#Function to add the features to the network graph we created already\n",
    "\n",
    "def add_edge_features_from_xml(G, xml_filename, interval_begin):\n",
    "    # Parse the XML file\n",
    "    tree = ET.parse(xml_filename)\n",
    "    root = tree.getroot()\n",
    "    #Find the interval corresponding to the interval_begin time \n",
    "    interval = root.find(f'.//interval[@begin=\"{interval_begin}\"]')\n",
    "    #Extract all the features of the edges\n",
    "    edges = interval.findall('.//edge')\n",
    "    for edge in edges:\n",
    "        edge_id = edge.get('id')\n",
    "        edge_features = {}\n",
    "        edge_features['left'] = edge.get('left')\n",
    "        #We can add other features here\n",
    "        #Iterate through the edges in the existing NetworkX graph\n",
    "        for xml_edge_id, xml_edge_data in G.edges.items():\n",
    "            if G.get_edge_data(xml_edge_id[0],xml_edge_id[1])['edge_id'] == edge_id:\n",
    "                G.edges[xml_edge_id].update(edge_features)\n",
    "    return G\n",
    "\n",
    "def nx_to_pyg(graph):\n",
    "    # Convert NetworkX graph to PyTorch Geometric Data object\n",
    "    pyg_data = Data.Data()\n",
    "    #We have to number the nodes, because that is how Data object works\n",
    "    # Mapping between string node IDs and numerical indices\n",
    "    node_id_to_index = {node_id: i for i, node_id in enumerate(graph.nodes)}\n",
    "\n",
    "    # Set node features\n",
    "    num_nodes = graph.number_of_nodes()\n",
    "    node_features = np.zeros((num_nodes, 2))  # Assuming num_features is known, this is important to change, if we want to change something, altough I do not think that will be the case for us\n",
    "    for i, (node, features) in enumerate(graph.nodes(data=True)):\n",
    "        node_features[i] = [features['pos'][0], features['pos'][1]]  # Add node features accordingly, this case the coordinates\n",
    "    pyg_data.x = torch.tensor(node_features, dtype=torch.float)\n",
    "\n",
    "    # Set edge features and edge indices\n",
    "    edge_index = []\n",
    "    edge_features = []\n",
    "    for u, v, features in graph.edges(data=True):\n",
    "        # Map string node IDs to numerical indices\n",
    "        u_index = node_id_to_index[u]\n",
    "        v_index = node_id_to_index[v]\n",
    "        edge_index.append([u_index, v_index])\n",
    "        edge_features.append([float(features['left'])])  # Add edge features accordingly, if we add more features, we have to change this line\n",
    "\n",
    "    pyg_data.edge_index = torch.tensor(edge_index, dtype=torch.long).t().contiguous()\n",
    "    pyg_data.edge_attr = torch.tensor(edge_features, dtype=torch.float)\n",
    "\n",
    "    return pyg_data\n",
    "\n",
    "\n",
    "#Function to plot the graph\n",
    "def plot_graph(G):\n",
    "    pos = nx.get_node_attributes(G, 'pos')\n",
    "    nx.draw(G, pos, with_labels=False, node_size=10)\n",
    "    plt.show()\n",
    "Graph = read_sumo_net('s_gyor.net.xml')"
   ]
  },
  {
   "cell_type": "code",
   "execution_count": 7,
   "metadata": {},
   "outputs": [
    {
     "name": "stdout",
     "output_type": "stream",
     "text": [
      "Data(x=[413, 2], edge_index=[2, 504], edge_attr=[504, 1])\n"
     ]
    }
   ],
   "source": [
    "G1 = read_sumo_net('s_gyor.net.xml')\n",
    "G2 = add_edge_features_from_xml(G1,'gyor_forg_15_min.xml',\"0.00\")\n",
    "pyg_data = nx_to_pyg(G2)\n",
    "print(pyg_data)\n"
   ]
  },
  {
   "cell_type": "code",
   "execution_count": 23,
   "metadata": {},
   "outputs": [
    {
     "name": "stdout",
     "output_type": "stream",
     "text": [
      "[393, 158, 165, 454, 429, 24, 52, 379, 308, 311, 211, 146, 368, 236, 56, 222, 45, 134, 88, 247, 35, 461, 9, 107, 99, 306, 43, 34, 260, 28, 456, 487, 109, 53, 8, 89, 387, 501, 460, 472, 217, 144, 255, 30, 337, 188, 363, 245, 39, 318, 362, 301, 225, 20, 166, 113, 265, 292, 366, 147, 108, 502, 480, 416, 484, 61, 293, 267, 325, 198, 375, 250, 65, 115, 493, 251, 503, 261, 148, 152, 440, 241, 180, 434, 373, 409, 280, 383, 406, 27, 159, 69, 458, 330, 309, 128, 478, 405, 11, 203, 419, 66, 145, 209, 257, 433, 408, 496, 441, 233, 479, 172, 404, 300, 463, 314, 41, 126, 81, 119, 315, 313, 476, 278, 467, 279, 402, 344, 275, 398, 102, 361, 431, 477, 303, 322, 120, 352, 59, 237, 421, 498, 32, 0, 224, 149, 324, 319, 103, 3, 87, 71, 264, 273, 289, 132, 54, 316, 200, 42, 131, 57, 220, 474, 29, 329, 73, 439, 178, 38, 492, 445, 397, 355, 47, 181, 151, 101, 299, 423, 191, 6, 471, 193, 91, 112, 164, 162, 235, 190, 333, 452, 425, 199, 282, 142, 347, 64, 31, 15, 80, 79, 110, 62, 490, 407, 323, 189, 130, 155, 268, 297, 465, 139, 307, 437, 312, 466, 334, 216, 197, 58, 253, 305, 489, 121, 104, 427, 246, 436, 485, 298, 486, 356, 358, 354, 238, 376, 272, 49, 114, 349, 214, 468, 231, 133, 413, 290, 96, 77, 12, 78, 424, 473, 364, 348, 37, 137, 249, 72, 252, 18, 331, 153, 488, 345, 248, 499, 207, 369, 395, 163, 382, 259, 177, 304, 262, 135, 400, 184, 428, 351, 494, 396, 230, 75, 285, 5, 281, 227, 254, 372, 90, 1, 40, 446, 143, 342, 438, 464, 470, 93, 432, 448, 63, 353, 357, 22, 377, 182, 317, 95, 481, 226, 167, 256, 33, 125, 339, 169, 258, 68, 187, 295, 229, 150, 129, 124, 274, 263, 430, 213, 111, 25, 173, 141, 401, 328, 381, 294, 7, 2, 341, 46, 414, 48, 179, 171, 116, 205, 326, 374]\n",
      "352\n"
     ]
    },
    {
     "ename": "TypeError",
     "evalue": "bad operand type for unary ~: 'list'",
     "output_type": "error",
     "traceback": [
      "\u001b[1;31m---------------------------------------------------------------------------\u001b[0m",
      "\u001b[1;31mTypeError\u001b[0m                                 Traceback (most recent call last)",
      "Cell \u001b[1;32mIn[23], line 56\u001b[0m\n\u001b[0;32m     54\u001b[0m \u001b[38;5;66;03m# Compute loss using the predicted features and the input features of the remaining edges\u001b[39;00m\n\u001b[0;32m     55\u001b[0m remaining_edge_attr \u001b[38;5;241m=\u001b[39m data\u001b[38;5;241m.\u001b[39medge_attr  \u001b[38;5;66;03m# Assuming all edges' features are present initially\u001b[39;00m\n\u001b[1;32m---> 56\u001b[0m remaining_edge_index \u001b[38;5;241m=\u001b[39m data\u001b[38;5;241m.\u001b[39medge_index[:, \u001b[38;5;241;43m~\u001b[39;49m\u001b[43medges_to_hide\u001b[49m]  \u001b[38;5;66;03m# Filter out the hidden edges\u001b[39;00m\n\u001b[0;32m     57\u001b[0m loss \u001b[38;5;241m=\u001b[39m criterion(output, remaining_edge_attr)  \u001b[38;5;66;03m# Assuming remaining_edge_attr contains the features of the remaining edges\u001b[39;00m\n\u001b[0;32m     59\u001b[0m loss\u001b[38;5;241m.\u001b[39mbackward()\n",
      "\u001b[1;31mTypeError\u001b[0m: bad operand type for unary ~: 'list'"
     ]
    }
   ],
   "source": [
    "data = nx_to_pyg(G2)\n",
    "\n",
    "class GNN(nn.Module):\n",
    "    def __init__(self, input_dim, hidden_dim, output_dim):\n",
    "        super(GNN, self).__init__()\n",
    "        self.conv1 = GCNConv(input_dim, hidden_dim)\n",
    "        self.conv2 = GCNConv(hidden_dim, output_dim)\n",
    "\n",
    "    def forward(self, x, edge_index):\n",
    "        x = self.conv1(x, edge_index)\n",
    "        x = F.relu(x)\n",
    "        x = self.conv2(x, edge_index)\n",
    "        return x\n",
    "\n",
    "\n",
    "# Get the total number of edges in the dataset\n",
    "total_num_edges = data.num_edges\n",
    "\n",
    "# Calculate the number of edges to hide (70% of total number of edges)\n",
    "num_edges_to_hide = int(total_num_edges * 0.7)\n",
    "num_remaining_edges = total_num_edges - num_edges_to_hide\n",
    "\n",
    " # Randomly select edges to hide (70% of total edges)\n",
    "edges_to_hide = random.sample(range(total_num_edges), num_edges_to_hide)\n",
    "print(edges_to_hide)\n",
    "print(len(edges_to_hide))\n",
    "\n",
    "\n",
    "input_dim = num_remaining_edges\n",
    "hidden_dim = 64\n",
    "output_dim = num_edges_to_hide \n",
    "\n",
    "# Define the model\n",
    "model = GNN(input_dim, hidden_dim, output_dim)\n",
    "\n",
    "\n",
    "criterion = nn.MSELoss()\n",
    "optimizer = torch.optim.Adam(model.parameters(), lr=0.01)\n",
    "\n",
    "\n",
    "num_epochs = 100\n",
    "\n",
    "for epoch in range(num_epochs):\n",
    "    model.train()\n",
    "    optimizer.zero_grad()\n",
    "    \n",
    "   \n",
    "    \n",
    "    # Filter the edge features and edge indices for the selected edges\n",
    "    hidden_edge_attr = data.edge_attr[edges_to_hide]\n",
    "    hidden_edge_index = data.edge_index[:, edges_to_hide]\n",
    "    \n",
    "    output = model.forward()\n",
    "    \n",
    "    # Compute loss using the predicted features and the input features of the remaining edges\n",
    "\n",
    "    remaining_edge_attr = data.edge_attr  # Assuming all edges' features are present initially\n",
    "    remaining_edge_index = data.edge_index[:, ~edges_to_hide]  # Filter out the hidden edges\n",
    "    loss = criterion(output, remaining_edge_attr)  # Assuming remaining_edge_attr contains the features of the remaining edges\n",
    "    \n",
    "    loss.backward()\n",
    "    optimizer.step()\n",
    "    \n",
    "    if epoch % 10 == 0:\n",
    "        print(f'Epoch {epoch+1}, Loss: {loss.item()}')\n",
    "\n",
    "# NaN értékte cserélni a hiden edge-eket\n"
   ]
  }
 ],
 "metadata": {
  "kernelspec": {
   "display_name": "tf",
   "language": "python",
   "name": "python3"
  },
  "language_info": {
   "codemirror_mode": {
    "name": "ipython",
    "version": 3
   },
   "file_extension": ".py",
   "mimetype": "text/x-python",
   "name": "python",
   "nbconvert_exporter": "python",
   "pygments_lexer": "ipython3",
   "version": "3.12.3"
  }
 },
 "nbformat": 4,
 "nbformat_minor": 2
}
